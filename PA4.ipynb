{
 "cells": [
  {
   "cell_type": "code",
   "execution_count": 4,
   "id": "e5030f57",
   "metadata": {},
   "outputs": [
    {
     "name": "stdout",
     "output_type": "stream",
     "text": [
      "1\n",
      "2\n",
      "3\n",
      "4\n",
      "5\n",
      "6 *\n",
      "7\n",
      "8\n",
      "9 *\n",
      "10\n",
      "11\n",
      "12 *\n",
      "13\n",
      "14\n",
      "15 *\n",
      "16\n",
      "17\n",
      "18 *\n",
      "19\n",
      "20\n",
      "21 *\n",
      "22\n",
      "23\n",
      "24 *\n",
      "25\n",
      "26\n",
      "27 *\n",
      "28\n",
      "29\n",
      "30 *\n",
      "31\n",
      "32\n",
      "33 *\n",
      "34\n",
      "35\n",
      "36 *\n",
      "37\n",
      "38\n",
      "39 *\n",
      "40\n",
      "41\n",
      "42 *\n",
      "43\n",
      "44\n",
      "45 *\n",
      "46\n",
      "47\n",
      "48 *\n",
      "49\n",
      "50\n",
      "51 *\n",
      "52\n",
      "53\n",
      "54 *\n",
      "55\n",
      "56\n",
      "57 *\n",
      "58\n",
      "59\n",
      "60 *\n",
      "61\n",
      "62\n",
      "63 *\n",
      "64\n",
      "65\n",
      "66 *\n",
      "67\n",
      "68\n",
      "69 *\n",
      "70\n",
      "71\n",
      "72 *\n",
      "73\n",
      "74\n",
      "75 *\n",
      "76\n",
      "77\n",
      "78 *\n",
      "79\n",
      "80\n",
      "81 *\n",
      "82\n",
      "83\n",
      "84 *\n",
      "85\n",
      "86\n",
      "87 *\n",
      "88\n",
      "89\n",
      "90 *\n",
      "91\n",
      "92\n",
      "93 *\n",
      "94\n",
      "95\n",
      "96 *\n",
      "97\n",
      "98\n",
      "99 *\n"
     ]
    }
   ],
   "source": [
    "for i in range(1,100):\n",
    "    if((i%3==0)and(i!=0)and(i!=3)):\n",
    "        print(i,\"*\")\n",
    "    else:\n",
    "        print(i)"
   ]
  },
  {
   "cell_type": "code",
   "execution_count": null,
   "id": "1cebb862",
   "metadata": {},
   "outputs": [],
   "source": []
  },
  {
   "cell_type": "code",
   "execution_count": 6,
   "id": "99185666",
   "metadata": {},
   "outputs": [
    {
     "name": "stdout",
     "output_type": "stream",
     "text": [
      "Enter a number from 1 to 124\n",
      "April, 30 days\n"
     ]
    }
   ],
   "source": [
    "number=int(input(\"Enter a number from 1 to 12\"))\n",
    "if(number==1):\n",
    "    print(\"January, 31 days\")\n",
    "    \n",
    "elif(number==2):\n",
    "    print(\"Feburary, 28 days\")\n",
    "elif(number==3):\n",
    "    print(\"March, 31 days\")\n",
    "elif(number==4):\n",
    "    print(\"April, 30 days\")\n",
    "elif(number==5):\n",
    "    print(\"May, 31 days\")\n",
    "elif(number==6):\n",
    "    print(\"June, 30 days\")\n",
    "elif(number==7):\n",
    "    print(\"July, 31 days\")\n",
    "elif(number==8):\n",
    "    print(\"August, 31 days\")\n",
    "elif(number==9):\n",
    "    print(\"September, 30 days\")\n",
    "elif(number==10):\n",
    "    print(\"October, 31 days\")\n",
    "elif(number==11):\n",
    "    print(\"November, 30 days\")\n",
    "elif(number==12):\n",
    "    print(\"December, 31 days\")\n",
    "else:\n",
    "    print(\"Please enter a number in the range of 1 to 12\")"
   ]
  },
  {
   "cell_type": "code",
   "execution_count": 11,
   "id": "c8a9d4e7",
   "metadata": {},
   "outputs": [
    {
     "name": "stdout",
     "output_type": "stream",
     "text": [
      "Enter a number307\n",
      "Prime number\n"
     ]
    }
   ],
   "source": [
    "primenumber=int(input(\"Enter a number\"))\n",
    "if(primenumber%2!=0):\n",
    "    if(primenumber%3!=0):\n",
    "        if(primenumber%5!=0):\n",
    "            if(primenumber%7!=0):\n",
    "                if(primenumber%11!=0):\n",
    "                    print(\"Prime number\")\n",
    "                else:\n",
    "                    print(\"Not prime\")\n",
    "            else:\n",
    "                print(\"not prime\")\n",
    "        else:\n",
    "            print(\"Not prime\")\n",
    "    else:\n",
    "        print(\"Not prime\")\n",
    "else:\n",
    "    print(\"Not prime\")"
   ]
  },
  {
   "cell_type": "code",
   "execution_count": 15,
   "id": "4d520624",
   "metadata": {},
   "outputs": [
    {
     "name": "stdout",
     "output_type": "stream",
     "text": [
      "Enter first side of triangle5\n",
      "Enter second side of triangle5\n",
      "Enter third side of triangle5\n",
      "Equilateral triangle\n"
     ]
    }
   ],
   "source": [
    "side1=int(input(\"Enter first side of triangle\"))\n",
    "side2=int(input(\"Enter second side of triangle\"))\n",
    "side3=int(input(\"Enter third side of triangle\"))\n",
    "if((side1==side2) and (side2==side3) and (side1==side3)):\n",
    "    print(\"Equilateral triangle\")\n",
    "elif((side1==side2) or (side2==side3) or (side1==side3)):\n",
    "    print(\"Isosceles triangle\")\n",
    "else:\n",
    "    print(\"Scalene triangle\")"
   ]
  },
  {
   "cell_type": "code",
   "execution_count": 20,
   "id": "d4b361c7",
   "metadata": {},
   "outputs": [
    {
     "name": "stdout",
     "output_type": "stream",
     "text": [
      "65 Senior citizen\n",
      "78 Senior citizen\n",
      "34 Adult\n",
      "56 Adult\n",
      "12 Child\n",
      "9 Child\n",
      "43 Adult\n",
      "67 Senior citizen\n"
     ]
    }
   ],
   "source": [
    "agelist=[65,78,34,56,12,9,43,67]\n",
    "for i in agelist:\n",
    "    if(i >= 65):\n",
    "        print(i,\"Senior citizen\")\n",
    "    elif(i >= 18):\n",
    "        print(i,\"Adult\")\n",
    "    else:\n",
    "        print(i,\"Child\")\n"
   ]
  },
  {
   "cell_type": "markdown",
   "id": "6f98878f",
   "metadata": {},
   "source": [
    "## Programming Assignment 4 CS150\n",
    "# Computer Programming for the Liberal Arts \n",
    "### SP 2023\n",
    "#### Joey Guthrie, Version 1\n",
    "\n",
    "\n",
    "\n"
   ]
  },
  {
   "cell_type": "code",
   "execution_count": null,
   "id": "7757c53b",
   "metadata": {},
   "outputs": [],
   "source": []
  },
  {
   "cell_type": "code",
   "execution_count": null,
   "id": "4428eb9d",
   "metadata": {},
   "outputs": [],
   "source": []
  },
  {
   "cell_type": "code",
   "execution_count": null,
   "id": "fcfa4d49",
   "metadata": {},
   "outputs": [],
   "source": []
  }
 ],
 "metadata": {
  "kernelspec": {
   "display_name": "Python 3 (ipykernel)",
   "language": "python",
   "name": "python3"
  },
  "language_info": {
   "codemirror_mode": {
    "name": "ipython",
    "version": 3
   },
   "file_extension": ".py",
   "mimetype": "text/x-python",
   "name": "python",
   "nbconvert_exporter": "python",
   "pygments_lexer": "ipython3",
   "version": "3.9.13"
  }
 },
 "nbformat": 4,
 "nbformat_minor": 5
}
